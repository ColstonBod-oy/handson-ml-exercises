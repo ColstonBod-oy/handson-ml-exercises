{
  "cells": [
    {
      "cell_type": "markdown",
      "id": "Ohmls9bqAjjM",
      "metadata": {
        "id": "Ohmls9bqAjjM"
      },
      "source": [
        "**Chapter 2 – End-to-end Machine Learning project**\n",
        "\n",
        "*Welcome to Machine Learning Housing Corp.! Your task is to predict median house values in Californian districts, given a number of features from these districts.*\n",
        "\n",
        "*This notebook contains all the sample code and solutions to the exercices in chapter 2.*\n",
        "\n",
        "<table align=\"left\">\n",
        "  <td>\n",
        "    <a target=\"_blank\" href=\"https://colab.research.google.com/github/ColstonBod-oy/handson-ml-exercises/blob/main/Housing.ipynb\"><img src=\"https://www.tensorflow.org/images/colab_logo_32px.png\" />Run in Google Colab</a>\n",
        "  </td>\n",
        "</table>"
      ]
    },
    {
      "cell_type": "markdown",
      "id": "dTqnO0dBAjkO",
      "metadata": {
        "id": "dTqnO0dBAjkO"
      },
      "source": [
        "# Exercises"
      ]
    },
    {
      "cell_type": "markdown",
      "id": "cAETnrXWC3UC",
      "metadata": {
        "id": "cAETnrXWC3UC"
      },
      "source": [
        "Using this chapter's housing dataset:\n",
        "\n",
        "\n",
        "1.   Try a Support Vector Machine regressor (`sklearn.svm.SVR`), with various hyperparameters such as `kernel=\"linear\"` (with various values for the `C` hyperparameter) or `kernel=\"rbf\"` (with various values for the `C` and `gamma` hyperparameters). Don't worry about what these hyperparameters mean for now. How does the best `SVR` predictor perform?\n",
        "\n",
        "2.   Try replacing `GridSearchCV` with `RandomizedSearchCV`.\n",
        "\n",
        "3.   Try adding a transformer in the preparation pipeline to select only the most important attributes.\n",
        "\n",
        "4.   Try creating a single pipeline that does the full data preparation plus the final prediction.\n",
        "\n",
        "5.   Automatically explore some preparation options using `GridSearchCV`."
      ]
    },
    {
      "cell_type": "markdown",
      "id": "VMktCTX0AjjV",
      "metadata": {
        "id": "VMktCTX0AjjV"
      },
      "source": [
        "# Setup"
      ]
    },
    {
      "cell_type": "markdown",
      "id": "clJFVToSAjjV",
      "metadata": {
        "id": "clJFVToSAjjV"
      },
      "source": [
        "First, let's make sure this notebook works well in both python 2 and 3, import a few common modules, ensure MatplotLib plots figures inline and prepare a function to save the figures:"
      ]
    },
    {
      "cell_type": "code",
      "execution_count": 1,
      "id": "cJX4NnOtAjjW",
      "metadata": {
        "id": "cJX4NnOtAjjW"
      },
      "outputs": [],
      "source": [
        "# To support both python 2 and python 3\n",
        "from __future__ import division, print_function, unicode_literals\n",
        "\n",
        "# Common imports\n",
        "import numpy as np\n",
        "import os\n",
        "\n",
        "# to make this notebook's output stable across runs\n",
        "np.random.seed(42)\n",
        "\n",
        "# To plot pretty figures\n",
        "%matplotlib inline\n",
        "import matplotlib as mpl\n",
        "import matplotlib.pyplot as plt\n",
        "mpl.rc('axes', labelsize=14)\n",
        "mpl.rc('xtick', labelsize=12)\n",
        "mpl.rc('ytick', labelsize=12)\n",
        "\n",
        "# Where to save the figures\n",
        "PROJECT_ROOT_DIR = \".\"\n",
        "CHAPTER_ID = \"end_to_end_project\"\n",
        "IMAGES_PATH = os.path.join(PROJECT_ROOT_DIR, \"images\", CHAPTER_ID)\n",
        "os.makedirs(IMAGES_PATH, exist_ok=True)\n",
        "\n",
        "def save_fig(fig_id, tight_layout=True, fig_extension=\"png\", resolution=300):\n",
        "    path = os.path.join(IMAGES_PATH, fig_id + \".\" + fig_extension)\n",
        "    print(\"Saving figure\", fig_id)\n",
        "    if tight_layout:\n",
        "        plt.tight_layout()\n",
        "    plt.savefig(path, format=fig_extension, dpi=resolution)"
      ]
    },
    {
      "cell_type": "markdown",
      "id": "9_iNowFBAjjY",
      "metadata": {
        "id": "9_iNowFBAjjY"
      },
      "source": [
        "# Get the data"
      ]
    },
    {
      "cell_type": "code",
      "execution_count": 2,
      "id": "7EN72NCYAjja",
      "metadata": {
        "id": "7EN72NCYAjja"
      },
      "outputs": [],
      "source": [
        "import os\n",
        "import tarfile\n",
        "import urllib.request\n",
        "\n",
        "DOWNLOAD_ROOT = \"https://raw.githubusercontent.com/ColstonBod-oy/handson-ml-exercises/main/\"\n",
        "HOUSING_PATH = os.path.join(\"datasets\", \"housing\")\n",
        "HOUSING_URL = DOWNLOAD_ROOT + \"datasets/housing/housing.tgz\"\n",
        "\n",
        "def fetch_housing_data(housing_url=HOUSING_URL, housing_path=HOUSING_PATH):\n",
        "    os.makedirs(housing_path, exist_ok=True)\n",
        "    tgz_path = os.path.join(housing_path, \"housing.tgz\")\n",
        "    urllib.request.urlretrieve(housing_url, tgz_path)\n",
        "    housing_tgz = tarfile.open(tgz_path)\n",
        "    housing_tgz.extractall(path=housing_path)\n",
        "    housing_tgz.close()"
      ]
    },
    {
      "cell_type": "code",
      "execution_count": 3,
      "id": "rN1_pf-rAjjb",
      "metadata": {
        "id": "rN1_pf-rAjjb"
      },
      "outputs": [],
      "source": [
        "fetch_housing_data()"
      ]
    },
    {
      "cell_type": "code",
      "execution_count": 4,
      "id": "k9FZk71NAjjc",
      "metadata": {
        "id": "k9FZk71NAjjc"
      },
      "outputs": [],
      "source": [
        "import pandas as pd\n",
        "\n",
        "def load_housing_data(housing_path=HOUSING_PATH):\n",
        "    csv_path = os.path.join(housing_path, \"housing.csv\")\n",
        "    return pd.read_csv(csv_path)"
      ]
    },
    {
      "cell_type": "code",
      "execution_count": 5,
      "id": "yJgQyLgEAjjd",
      "metadata": {
        "id": "yJgQyLgEAjjd"
      },
      "outputs": [],
      "source": [
        "housing = load_housing_data()"
      ]
    },
    {
      "cell_type": "code",
      "execution_count": 6,
      "id": "697N5_sNAjjh",
      "metadata": {
        "id": "697N5_sNAjjh"
      },
      "outputs": [],
      "source": [
        "# to make this notebook's output identical at every run\n",
        "np.random.seed(42)"
      ]
    },
    {
      "cell_type": "markdown",
      "id": "8erJMRRHU-I0",
      "metadata": {
        "id": "8erJMRRHU-I0"
      },
      "source": [
        "# Use stratified sampling method on the data"
      ]
    },
    {
      "cell_type": "code",
      "execution_count": 7,
      "id": "K-snGUPsAjjl",
      "metadata": {
        "id": "K-snGUPsAjjl"
      },
      "outputs": [],
      "source": [
        "from sklearn.model_selection import train_test_split\n",
        "\n",
        "train_set, test_set = train_test_split(housing, test_size=0.2, random_state=42)"
      ]
    },
    {
      "cell_type": "markdown",
      "id": "FMXeiYYPAjjn",
      "metadata": {
        "id": "FMXeiYYPAjjn"
      },
      "source": [
        "**Warning**: in the book, I did not use `pd.cut()`. The `pd.cut()` solution gives the same result (except the labels are integers instead of floats), but it is simpler to understand:"
      ]
    },
    {
      "cell_type": "code",
      "execution_count": 8,
      "id": "hGJsc3lPAjjn",
      "metadata": {
        "id": "hGJsc3lPAjjn"
      },
      "outputs": [],
      "source": [
        "housing[\"income_cat\"] = pd.cut(housing[\"median_income\"],\n",
        "                               bins=[0., 1.5, 3.0, 4.5, 6., np.inf],\n",
        "                               labels=[1, 2, 3, 4, 5])"
      ]
    },
    {
      "cell_type": "code",
      "execution_count": 9,
      "id": "yooFEOdMAjjo",
      "metadata": {
        "id": "yooFEOdMAjjo"
      },
      "outputs": [],
      "source": [
        "from sklearn.model_selection import StratifiedShuffleSplit\n",
        "\n",
        "split = StratifiedShuffleSplit(n_splits=1, test_size=0.2, random_state=42)\n",
        "for train_index, test_index in split.split(housing, housing[\"income_cat\"]):\n",
        "    strat_train_set = housing.loc[train_index]\n",
        "    strat_test_set = housing.loc[test_index]"
      ]
    },
    {
      "cell_type": "code",
      "execution_count": 10,
      "id": "OiO6_a7fAjjr",
      "metadata": {
        "id": "OiO6_a7fAjjr"
      },
      "outputs": [],
      "source": [
        "for set_ in (strat_train_set, strat_test_set):\n",
        "    set_.drop(\"income_cat\", axis=1, inplace=True)"
      ]
    },
    {
      "cell_type": "markdown",
      "id": "WFhRO6aSBJyZ",
      "metadata": {
        "id": "WFhRO6aSBJyZ"
      },
      "source": [
        "# Prepare the data for Machine Learning algorithms"
      ]
    },
    {
      "cell_type": "code",
      "execution_count": 11,
      "id": "rZ5SWhKNBJyZ",
      "metadata": {
        "id": "rZ5SWhKNBJyZ"
      },
      "outputs": [],
      "source": [
        "housing = strat_train_set.drop(\"median_house_value\", axis=1) # drop labels for training set\n",
        "housing_labels = strat_train_set[\"median_house_value\"].copy()"
      ]
    },
    {
      "cell_type": "markdown",
      "id": "fuiWuB-FBJyc",
      "metadata": {
        "id": "fuiWuB-FBJyc"
      },
      "source": [
        "**Warning**: Since Scikit-Learn 0.20, the `sklearn.preprocessing.Imputer` class was replaced by the `sklearn.impute.SimpleImputer` class."
      ]
    },
    {
      "cell_type": "code",
      "execution_count": 12,
      "id": "yIkEk3f9BJyc",
      "metadata": {
        "id": "yIkEk3f9BJyc"
      },
      "outputs": [],
      "source": [
        "try:\n",
        "    from sklearn.impute import SimpleImputer # Scikit-Learn 0.20+\n",
        "except ImportError:\n",
        "    from sklearn.preprocessing import Imputer as SimpleImputer"
      ]
    },
    {
      "cell_type": "markdown",
      "id": "0Ued1PUXBJyd",
      "metadata": {
        "id": "0Ued1PUXBJyd"
      },
      "source": [
        "Remove the text attribute because median can only be calculated on numerical attributes:"
      ]
    },
    {
      "cell_type": "code",
      "execution_count": 13,
      "id": "klqDCasgBJyd",
      "metadata": {
        "id": "klqDCasgBJyd"
      },
      "outputs": [],
      "source": [
        "housing_num = housing.drop('ocean_proximity', axis=1)\n",
        "# alternatively: housing_num = housing.select_dtypes(include=[np.number])"
      ]
    },
    {
      "cell_type": "markdown",
      "id": "RDydQmybBJyh",
      "metadata": {
        "id": "RDydQmybBJyh"
      },
      "source": [
        "**Warning**: earlier versions of the book used the `LabelBinarizer` or `CategoricalEncoder` classes to convert each categorical value to a one-hot vector. It is now preferable to use the `OneHotEncoder` class. Since Scikit-Learn 0.20 it can handle string categorical inputs (see [PR #10521](https://github.com/scikit-learn/scikit-learn/issues/10521)), not just integer categorical inputs. If you are using an older version of Scikit-Learn, you can import the new version from `future_encoders.py`:"
      ]
    },
    {
      "cell_type": "code",
      "execution_count": 14,
      "id": "TlmVYqZ2BJyh",
      "metadata": {
        "id": "TlmVYqZ2BJyh"
      },
      "outputs": [],
      "source": [
        "try:\n",
        "    from sklearn.preprocessing import OrdinalEncoder # just to raise an ImportError if Scikit-Learn < 0.20\n",
        "    from sklearn.preprocessing import OneHotEncoder\n",
        "except ImportError:\n",
        "    from future_encoders import OneHotEncoder # Scikit-Learn < 0.20"
      ]
    },
    {
      "cell_type": "markdown",
      "id": "WAC6RLvhBJyj",
      "metadata": {
        "id": "WAC6RLvhBJyj"
      },
      "source": [
        "Let's create a custom transformer to add extra attributes:"
      ]
    },
    {
      "cell_type": "markdown",
      "id": "H9jhHs4NBJyk",
      "metadata": {
        "id": "H9jhHs4NBJyk"
      },
      "source": [
        "You can use Scikit-Learn's `FunctionTransformer` class that lets you easily create a transformer based on a transformation function (thanks to [Hanmin Qin](https://github.com/qinhanmin2014) for suggesting this code). Note that we need to set `validate=False` because the data contains non-float values (`validate` will default to `False` in Scikit-Learn 0.22)."
      ]
    },
    {
      "cell_type": "code",
      "execution_count": 15,
      "id": "7B4aT4agBJyk",
      "metadata": {
        "id": "7B4aT4agBJyk"
      },
      "outputs": [],
      "source": [
        "from sklearn.preprocessing import FunctionTransformer\n",
        "\n",
        "# get the right column indices: safer than hard-coding indices 3, 4, 5, 6\n",
        "rooms_ix, bedrooms_ix, population_ix, household_ix = [\n",
        "    list(housing.columns).index(col)\n",
        "    for col in (\"total_rooms\", \"total_bedrooms\", \"population\", \"households\")]\n",
        "\n",
        "def add_extra_features(X, add_bedrooms_per_room=True):\n",
        "    rooms_per_household = X[:, rooms_ix] / X[:, household_ix]\n",
        "    population_per_household = X[:, population_ix] / X[:, household_ix]\n",
        "    if add_bedrooms_per_room:\n",
        "        bedrooms_per_room = X[:, bedrooms_ix] / X[:, rooms_ix]\n",
        "        return np.c_[X, rooms_per_household, population_per_household,\n",
        "                     bedrooms_per_room]\n",
        "    else:\n",
        "        return np.c_[X, rooms_per_household, population_per_household]"
      ]
    },
    {
      "cell_type": "markdown",
      "id": "J3UndQasBJyk",
      "metadata": {
        "id": "J3UndQasBJyk"
      },
      "source": [
        "Now let's build a pipeline for preprocessing the numerical attributes:"
      ]
    },
    {
      "cell_type": "code",
      "execution_count": 16,
      "id": "DHrc2EmaBJyl",
      "metadata": {
        "id": "DHrc2EmaBJyl"
      },
      "outputs": [],
      "source": [
        "from sklearn.pipeline import Pipeline\n",
        "from sklearn.preprocessing import StandardScaler\n",
        "\n",
        "num_pipeline = Pipeline([\n",
        "        ('imputer', SimpleImputer(strategy=\"median\")),\n",
        "        ('attribs_adder', FunctionTransformer(add_extra_features, validate=False)),\n",
        "        ('std_scaler', StandardScaler()),\n",
        "    ])"
      ]
    },
    {
      "cell_type": "markdown",
      "id": "Td0ZsxRgBJyl",
      "metadata": {
        "id": "Td0ZsxRgBJyl"
      },
      "source": [
        "**Warning**: earlier versions of the book applied different transformations to different columns using a solution based on a `DataFrameSelector` transformer and a `FeatureUnion`. It is now preferable to use the `ColumnTransformer` class that was introduced in Scikit-Learn 0.20. If you are using an older version of Scikit-Learn, you can import it from `future_encoders.py`:"
      ]
    },
    {
      "cell_type": "code",
      "execution_count": 17,
      "id": "Y4DNJEs1BJyl",
      "metadata": {
        "id": "Y4DNJEs1BJyl"
      },
      "outputs": [],
      "source": [
        "try:\n",
        "    from sklearn.compose import ColumnTransformer\n",
        "except ImportError:\n",
        "    from future_encoders import ColumnTransformer # Scikit-Learn < 0.20"
      ]
    },
    {
      "cell_type": "code",
      "execution_count": 18,
      "id": "Jhe99_QGBJym",
      "metadata": {
        "id": "Jhe99_QGBJym"
      },
      "outputs": [],
      "source": [
        "num_attribs = list(housing_num)\n",
        "cat_attribs = [\"ocean_proximity\"]\n",
        "\n",
        "full_pipeline = ColumnTransformer([\n",
        "        (\"num\", num_pipeline, num_attribs),\n",
        "        (\"cat\", OneHotEncoder(), cat_attribs),\n",
        "    ])\n",
        "\n",
        "housing_prepared = full_pipeline.fit_transform(housing)"
      ]
    },
    {
      "cell_type": "markdown",
      "metadata": {
        "id": "KeAzw8f8ygdN"
      },
      "source": [
        "# Select and fine-tune a model "
      ],
      "id": "KeAzw8f8ygdN"
    },
    {
      "cell_type": "code",
      "execution_count": 19,
      "metadata": {
        "id": "P-7eudO-ygdV"
      },
      "outputs": [],
      "source": [
        "from sklearn.ensemble import RandomForestRegressor"
      ],
      "id": "P-7eudO-ygdV"
    },
    {
      "cell_type": "code",
      "execution_count": 20,
      "metadata": {
        "id": "JKmTddkkygdX",
        "outputId": "694fea27-cbf5-423b-a570-cf2d570d2687",
        "colab": {
          "base_uri": "https://localhost:8080/"
        }
      },
      "outputs": [
        {
          "output_type": "execute_result",
          "data": {
            "text/plain": [
              "GridSearchCV(cv=5, estimator=RandomForestRegressor(random_state=42),\n",
              "             param_grid=[{'max_features': [2, 4, 6, 8],\n",
              "                          'n_estimators': [3, 10, 30]},\n",
              "                         {'bootstrap': [False], 'max_features': [2, 3, 4],\n",
              "                          'n_estimators': [3, 10]}],\n",
              "             return_train_score=True, scoring='neg_mean_squared_error')"
            ]
          },
          "metadata": {},
          "execution_count": 20
        }
      ],
      "source": [
        "from sklearn.model_selection import GridSearchCV\n",
        "\n",
        "param_grid = [\n",
        "    # try 12 (3×4) combinations of hyperparameters\n",
        "    {'n_estimators': [3, 10, 30], 'max_features': [2, 4, 6, 8]},\n",
        "    # then try 6 (2×3) combinations with bootstrap set as False\n",
        "    {'bootstrap': [False], 'n_estimators': [3, 10], 'max_features': [2, 3, 4]},\n",
        "  ]\n",
        "\n",
        "forest_reg = RandomForestRegressor(random_state=42)\n",
        "# train across 5 folds, that's a total of (12+6)*5=90 rounds of training \n",
        "grid_search = GridSearchCV(forest_reg, param_grid, cv=5,\n",
        "                           scoring='neg_mean_squared_error', return_train_score=True)\n",
        "grid_search.fit(housing_prepared, housing_labels)"
      ],
      "id": "JKmTddkkygdX"
    },
    {
      "cell_type": "markdown",
      "metadata": {
        "id": "Wp1oehEyvk4D"
      },
      "source": [
        "The best hyperparameter combination found:"
      ],
      "id": "Wp1oehEyvk4D"
    },
    {
      "cell_type": "code",
      "execution_count": 21,
      "metadata": {
        "id": "4HjaF5r4vk4D",
        "outputId": "d0df4db4-395f-4a30-b718-a667c964474c",
        "colab": {
          "base_uri": "https://localhost:8080/"
        }
      },
      "outputs": [
        {
          "output_type": "execute_result",
          "data": {
            "text/plain": [
              "{'max_features': 8, 'n_estimators': 30}"
            ]
          },
          "metadata": {},
          "execution_count": 21
        }
      ],
      "source": [
        "grid_search.best_params_"
      ],
      "id": "4HjaF5r4vk4D"
    },
    {
      "cell_type": "code",
      "execution_count": 22,
      "metadata": {
        "id": "4hqzy6fOvk4E",
        "outputId": "1892d321-29c6-433d-fa2b-e6c7e8adf7b6",
        "colab": {
          "base_uri": "https://localhost:8080/"
        }
      },
      "outputs": [
        {
          "output_type": "execute_result",
          "data": {
            "text/plain": [
              "RandomForestRegressor(max_features=8, n_estimators=30, random_state=42)"
            ]
          },
          "metadata": {},
          "execution_count": 22
        }
      ],
      "source": [
        "grid_search.best_estimator_"
      ],
      "id": "4hqzy6fOvk4E"
    },
    {
      "cell_type": "markdown",
      "metadata": {
        "id": "XNOMZ8wOvk4E"
      },
      "source": [
        "Let's look at the score of each hyperparameter combination tested during the grid search:"
      ],
      "id": "XNOMZ8wOvk4E"
    },
    {
      "cell_type": "code",
      "execution_count": 23,
      "metadata": {
        "id": "bjU8wvLBvk4E",
        "outputId": "15d2e2d2-f2dc-4cbe-82b3-cd5d20bbede9",
        "colab": {
          "base_uri": "https://localhost:8080/"
        }
      },
      "outputs": [
        {
          "output_type": "stream",
          "name": "stdout",
          "text": [
            "63895.161577951665 {'max_features': 2, 'n_estimators': 3}\n",
            "54916.32386349543 {'max_features': 2, 'n_estimators': 10}\n",
            "52885.86715332332 {'max_features': 2, 'n_estimators': 30}\n",
            "60075.3680329983 {'max_features': 4, 'n_estimators': 3}\n",
            "52495.01284985185 {'max_features': 4, 'n_estimators': 10}\n",
            "50187.24324926565 {'max_features': 4, 'n_estimators': 30}\n",
            "58064.73529982314 {'max_features': 6, 'n_estimators': 3}\n",
            "51519.32062366315 {'max_features': 6, 'n_estimators': 10}\n",
            "49969.80441627874 {'max_features': 6, 'n_estimators': 30}\n",
            "58895.824998155826 {'max_features': 8, 'n_estimators': 3}\n",
            "52459.79624724529 {'max_features': 8, 'n_estimators': 10}\n",
            "49898.98913455217 {'max_features': 8, 'n_estimators': 30}\n",
            "62381.765106921855 {'bootstrap': False, 'max_features': 2, 'n_estimators': 3}\n",
            "54476.57050944266 {'bootstrap': False, 'max_features': 2, 'n_estimators': 10}\n",
            "59974.60028085155 {'bootstrap': False, 'max_features': 3, 'n_estimators': 3}\n",
            "52754.5632813202 {'bootstrap': False, 'max_features': 3, 'n_estimators': 10}\n",
            "57831.136061214274 {'bootstrap': False, 'max_features': 4, 'n_estimators': 3}\n",
            "51278.37877140253 {'bootstrap': False, 'max_features': 4, 'n_estimators': 10}\n"
          ]
        }
      ],
      "source": [
        "cvres = grid_search.cv_results_\n",
        "for mean_score, params in zip(cvres[\"mean_test_score\"], cvres[\"params\"]):\n",
        "    print(np.sqrt(-mean_score), params)"
      ],
      "id": "bjU8wvLBvk4E"
    },
    {
      "cell_type": "code",
      "execution_count": 24,
      "metadata": {
        "id": "0bg_RxdWvk4E",
        "outputId": "1f052348-ae52-442e-e315-6a2ac61201fb",
        "colab": {
          "base_uri": "https://localhost:8080/",
          "height": 1000
        }
      },
      "outputs": [
        {
          "output_type": "execute_result",
          "data": {
            "text/plain": [
              "    mean_fit_time  std_fit_time  mean_score_time  std_score_time  \\\n",
              "0        0.067612      0.001848         0.003859        0.000207   \n",
              "1        0.223318      0.007300         0.012454        0.001214   \n",
              "2        0.685001      0.025166         0.036800        0.003334   \n",
              "3        0.108779      0.003612         0.003946        0.000143   \n",
              "4        0.444451      0.145185         0.012656        0.001445   \n",
              "5        2.167535      0.250397         0.061063        0.017551   \n",
              "6        0.287879      0.019348         0.006843        0.002158   \n",
              "7        0.946527      0.375466         0.014418        0.001812   \n",
              "8        1.535607      0.029460         0.033829        0.000295   \n",
              "9        0.202347      0.004498         0.004399        0.000101   \n",
              "10       0.670327      0.009557         0.012067        0.000166   \n",
              "11       1.984377      0.017240         0.033919        0.000433   \n",
              "12       0.106895      0.001764         0.004548        0.000139   \n",
              "13       0.330459      0.005565         0.013988        0.000194   \n",
              "14       0.143611      0.002698         0.004852        0.000081   \n",
              "15       0.471591      0.003990         0.014083        0.000101   \n",
              "16       0.183952      0.005133         0.005034        0.000124   \n",
              "17       0.596982      0.010258         0.014151        0.000084   \n",
              "\n",
              "   param_max_features param_n_estimators param_bootstrap  \\\n",
              "0                   2                  3             NaN   \n",
              "1                   2                 10             NaN   \n",
              "2                   2                 30             NaN   \n",
              "3                   4                  3             NaN   \n",
              "4                   4                 10             NaN   \n",
              "5                   4                 30             NaN   \n",
              "6                   6                  3             NaN   \n",
              "7                   6                 10             NaN   \n",
              "8                   6                 30             NaN   \n",
              "9                   8                  3             NaN   \n",
              "10                  8                 10             NaN   \n",
              "11                  8                 30             NaN   \n",
              "12                  2                  3           False   \n",
              "13                  2                 10           False   \n",
              "14                  3                  3           False   \n",
              "15                  3                 10           False   \n",
              "16                  4                  3           False   \n",
              "17                  4                 10           False   \n",
              "\n",
              "                                               params  split0_test_score  \\\n",
              "0              {'max_features': 2, 'n_estimators': 3}      -4.119912e+09   \n",
              "1             {'max_features': 2, 'n_estimators': 10}      -2.973521e+09   \n",
              "2             {'max_features': 2, 'n_estimators': 30}      -2.801229e+09   \n",
              "3              {'max_features': 4, 'n_estimators': 3}      -3.528743e+09   \n",
              "4             {'max_features': 4, 'n_estimators': 10}      -2.742620e+09   \n",
              "5             {'max_features': 4, 'n_estimators': 30}      -2.522176e+09   \n",
              "6              {'max_features': 6, 'n_estimators': 3}      -3.362127e+09   \n",
              "7             {'max_features': 6, 'n_estimators': 10}      -2.622099e+09   \n",
              "8             {'max_features': 6, 'n_estimators': 30}      -2.446142e+09   \n",
              "9              {'max_features': 8, 'n_estimators': 3}      -3.590333e+09   \n",
              "10            {'max_features': 8, 'n_estimators': 10}      -2.721311e+09   \n",
              "11            {'max_features': 8, 'n_estimators': 30}      -2.492636e+09   \n",
              "12  {'bootstrap': False, 'max_features': 2, 'n_est...      -4.020842e+09   \n",
              "13  {'bootstrap': False, 'max_features': 2, 'n_est...      -2.901352e+09   \n",
              "14  {'bootstrap': False, 'max_features': 3, 'n_est...      -3.687132e+09   \n",
              "15  {'bootstrap': False, 'max_features': 3, 'n_est...      -2.837028e+09   \n",
              "16  {'bootstrap': False, 'max_features': 4, 'n_est...      -3.549428e+09   \n",
              "17  {'bootstrap': False, 'max_features': 4, 'n_est...      -2.692499e+09   \n",
              "\n",
              "    split1_test_score  ...  mean_test_score  std_test_score  rank_test_score  \\\n",
              "0       -3.723465e+09  ...    -4.082592e+09    1.867375e+08               18   \n",
              "1       -2.810319e+09  ...    -3.015803e+09    1.139808e+08               11   \n",
              "2       -2.671474e+09  ...    -2.796915e+09    7.980892e+07                9   \n",
              "3       -3.490303e+09  ...    -3.609050e+09    1.375683e+08               16   \n",
              "4       -2.609311e+09  ...    -2.755726e+09    1.182604e+08                7   \n",
              "5       -2.440241e+09  ...    -2.518759e+09    8.488084e+07                3   \n",
              "6       -3.311863e+09  ...    -3.371513e+09    1.378086e+08               13   \n",
              "7       -2.669655e+09  ...    -2.654240e+09    6.967978e+07                5   \n",
              "8       -2.446594e+09  ...    -2.496981e+09    7.357046e+07                2   \n",
              "9       -3.232664e+09  ...    -3.468718e+09    1.293758e+08               14   \n",
              "10      -2.675886e+09  ...    -2.752030e+09    6.258030e+07                6   \n",
              "11      -2.444818e+09  ...    -2.489909e+09    7.086483e+07                1   \n",
              "12      -3.951861e+09  ...    -3.891485e+09    8.648595e+07               17   \n",
              "13      -3.036875e+09  ...    -2.967697e+09    4.582448e+07               10   \n",
              "14      -3.446245e+09  ...    -3.596953e+09    8.011960e+07               15   \n",
              "15      -2.619558e+09  ...    -2.783044e+09    8.862580e+07                8   \n",
              "16      -3.318176e+09  ...    -3.344440e+09    1.099355e+08               12   \n",
              "17      -2.542704e+09  ...    -2.629472e+09    8.510266e+07                4   \n",
              "\n",
              "    split0_train_score  split1_train_score  split2_train_score  \\\n",
              "0        -1.155630e+09       -1.089726e+09       -1.153843e+09   \n",
              "1        -5.982947e+08       -5.904781e+08       -6.123850e+08   \n",
              "2        -4.412567e+08       -4.326398e+08       -4.553722e+08   \n",
              "3        -9.782368e+08       -9.806455e+08       -1.003780e+09   \n",
              "4        -5.063215e+08       -5.257983e+08       -5.081984e+08   \n",
              "5        -3.776568e+08       -3.902106e+08       -3.885042e+08   \n",
              "6        -8.909397e+08       -9.583733e+08       -9.000201e+08   \n",
              "7        -4.939906e+08       -5.145996e+08       -5.023512e+08   \n",
              "8        -3.760968e+08       -3.876636e+08       -3.875307e+08   \n",
              "9        -9.505012e+08       -9.166119e+08       -9.033910e+08   \n",
              "10       -4.998373e+08       -4.997970e+08       -5.099880e+08   \n",
              "11       -3.801679e+08       -3.832972e+08       -3.823818e+08   \n",
              "12       -0.000000e+00       -4.306828e+01       -1.051392e+04   \n",
              "13       -0.000000e+00       -3.876145e+00       -9.462528e+02   \n",
              "14       -0.000000e+00       -0.000000e+00       -0.000000e+00   \n",
              "15       -0.000000e+00       -0.000000e+00       -0.000000e+00   \n",
              "16       -0.000000e+00       -0.000000e+00       -0.000000e+00   \n",
              "17       -0.000000e+00       -0.000000e+00       -0.000000e+00   \n",
              "\n",
              "    split3_train_score  split4_train_score  mean_train_score  std_train_score  \n",
              "0        -1.118149e+09       -1.093446e+09     -1.122159e+09     2.834288e+07  \n",
              "1        -5.727681e+08       -5.905210e+08     -5.928894e+08     1.284978e+07  \n",
              "2        -4.320746e+08       -4.311606e+08     -4.385008e+08     9.184397e+06  \n",
              "3        -1.016515e+09       -1.011270e+09     -9.980896e+08     1.577372e+07  \n",
              "4        -5.174405e+08       -5.282066e+08     -5.171931e+08     8.882622e+06  \n",
              "5        -3.830866e+08       -3.894779e+08     -3.857872e+08     4.774229e+06  \n",
              "6        -8.964731e+08       -9.151927e+08     -9.121998e+08     2.444837e+07  \n",
              "7        -4.959467e+08       -5.147087e+08     -5.043194e+08     8.880106e+06  \n",
              "8        -3.760938e+08       -3.861056e+08     -3.826981e+08     5.418747e+06  \n",
              "9        -9.070642e+08       -9.459386e+08     -9.247014e+08     1.973471e+07  \n",
              "10       -5.047868e+08       -5.348043e+08     -5.098427e+08     1.303601e+07  \n",
              "11       -3.778452e+08       -3.817589e+08     -3.810902e+08     1.916605e+06  \n",
              "12       -0.000000e+00       -0.000000e+00     -2.111398e+03     4.201294e+03  \n",
              "13       -0.000000e+00       -0.000000e+00     -1.900258e+02     3.781165e+02  \n",
              "14       -0.000000e+00       -0.000000e+00      0.000000e+00     0.000000e+00  \n",
              "15       -0.000000e+00       -0.000000e+00      0.000000e+00     0.000000e+00  \n",
              "16       -0.000000e+00       -0.000000e+00      0.000000e+00     0.000000e+00  \n",
              "17       -0.000000e+00       -0.000000e+00      0.000000e+00     0.000000e+00  \n",
              "\n",
              "[18 rows x 23 columns]"
            ],
            "text/html": [
              "\n",
              "  <div id=\"df-8bb0bb09-0b0e-4f25-8253-0efcd8299079\">\n",
              "    <div class=\"colab-df-container\">\n",
              "      <div>\n",
              "<style scoped>\n",
              "    .dataframe tbody tr th:only-of-type {\n",
              "        vertical-align: middle;\n",
              "    }\n",
              "\n",
              "    .dataframe tbody tr th {\n",
              "        vertical-align: top;\n",
              "    }\n",
              "\n",
              "    .dataframe thead th {\n",
              "        text-align: right;\n",
              "    }\n",
              "</style>\n",
              "<table border=\"1\" class=\"dataframe\">\n",
              "  <thead>\n",
              "    <tr style=\"text-align: right;\">\n",
              "      <th></th>\n",
              "      <th>mean_fit_time</th>\n",
              "      <th>std_fit_time</th>\n",
              "      <th>mean_score_time</th>\n",
              "      <th>std_score_time</th>\n",
              "      <th>param_max_features</th>\n",
              "      <th>param_n_estimators</th>\n",
              "      <th>param_bootstrap</th>\n",
              "      <th>params</th>\n",
              "      <th>split0_test_score</th>\n",
              "      <th>split1_test_score</th>\n",
              "      <th>...</th>\n",
              "      <th>mean_test_score</th>\n",
              "      <th>std_test_score</th>\n",
              "      <th>rank_test_score</th>\n",
              "      <th>split0_train_score</th>\n",
              "      <th>split1_train_score</th>\n",
              "      <th>split2_train_score</th>\n",
              "      <th>split3_train_score</th>\n",
              "      <th>split4_train_score</th>\n",
              "      <th>mean_train_score</th>\n",
              "      <th>std_train_score</th>\n",
              "    </tr>\n",
              "  </thead>\n",
              "  <tbody>\n",
              "    <tr>\n",
              "      <th>0</th>\n",
              "      <td>0.067612</td>\n",
              "      <td>0.001848</td>\n",
              "      <td>0.003859</td>\n",
              "      <td>0.000207</td>\n",
              "      <td>2</td>\n",
              "      <td>3</td>\n",
              "      <td>NaN</td>\n",
              "      <td>{'max_features': 2, 'n_estimators': 3}</td>\n",
              "      <td>-4.119912e+09</td>\n",
              "      <td>-3.723465e+09</td>\n",
              "      <td>...</td>\n",
              "      <td>-4.082592e+09</td>\n",
              "      <td>1.867375e+08</td>\n",
              "      <td>18</td>\n",
              "      <td>-1.155630e+09</td>\n",
              "      <td>-1.089726e+09</td>\n",
              "      <td>-1.153843e+09</td>\n",
              "      <td>-1.118149e+09</td>\n",
              "      <td>-1.093446e+09</td>\n",
              "      <td>-1.122159e+09</td>\n",
              "      <td>2.834288e+07</td>\n",
              "    </tr>\n",
              "    <tr>\n",
              "      <th>1</th>\n",
              "      <td>0.223318</td>\n",
              "      <td>0.007300</td>\n",
              "      <td>0.012454</td>\n",
              "      <td>0.001214</td>\n",
              "      <td>2</td>\n",
              "      <td>10</td>\n",
              "      <td>NaN</td>\n",
              "      <td>{'max_features': 2, 'n_estimators': 10}</td>\n",
              "      <td>-2.973521e+09</td>\n",
              "      <td>-2.810319e+09</td>\n",
              "      <td>...</td>\n",
              "      <td>-3.015803e+09</td>\n",
              "      <td>1.139808e+08</td>\n",
              "      <td>11</td>\n",
              "      <td>-5.982947e+08</td>\n",
              "      <td>-5.904781e+08</td>\n",
              "      <td>-6.123850e+08</td>\n",
              "      <td>-5.727681e+08</td>\n",
              "      <td>-5.905210e+08</td>\n",
              "      <td>-5.928894e+08</td>\n",
              "      <td>1.284978e+07</td>\n",
              "    </tr>\n",
              "    <tr>\n",
              "      <th>2</th>\n",
              "      <td>0.685001</td>\n",
              "      <td>0.025166</td>\n",
              "      <td>0.036800</td>\n",
              "      <td>0.003334</td>\n",
              "      <td>2</td>\n",
              "      <td>30</td>\n",
              "      <td>NaN</td>\n",
              "      <td>{'max_features': 2, 'n_estimators': 30}</td>\n",
              "      <td>-2.801229e+09</td>\n",
              "      <td>-2.671474e+09</td>\n",
              "      <td>...</td>\n",
              "      <td>-2.796915e+09</td>\n",
              "      <td>7.980892e+07</td>\n",
              "      <td>9</td>\n",
              "      <td>-4.412567e+08</td>\n",
              "      <td>-4.326398e+08</td>\n",
              "      <td>-4.553722e+08</td>\n",
              "      <td>-4.320746e+08</td>\n",
              "      <td>-4.311606e+08</td>\n",
              "      <td>-4.385008e+08</td>\n",
              "      <td>9.184397e+06</td>\n",
              "    </tr>\n",
              "    <tr>\n",
              "      <th>3</th>\n",
              "      <td>0.108779</td>\n",
              "      <td>0.003612</td>\n",
              "      <td>0.003946</td>\n",
              "      <td>0.000143</td>\n",
              "      <td>4</td>\n",
              "      <td>3</td>\n",
              "      <td>NaN</td>\n",
              "      <td>{'max_features': 4, 'n_estimators': 3}</td>\n",
              "      <td>-3.528743e+09</td>\n",
              "      <td>-3.490303e+09</td>\n",
              "      <td>...</td>\n",
              "      <td>-3.609050e+09</td>\n",
              "      <td>1.375683e+08</td>\n",
              "      <td>16</td>\n",
              "      <td>-9.782368e+08</td>\n",
              "      <td>-9.806455e+08</td>\n",
              "      <td>-1.003780e+09</td>\n",
              "      <td>-1.016515e+09</td>\n",
              "      <td>-1.011270e+09</td>\n",
              "      <td>-9.980896e+08</td>\n",
              "      <td>1.577372e+07</td>\n",
              "    </tr>\n",
              "    <tr>\n",
              "      <th>4</th>\n",
              "      <td>0.444451</td>\n",
              "      <td>0.145185</td>\n",
              "      <td>0.012656</td>\n",
              "      <td>0.001445</td>\n",
              "      <td>4</td>\n",
              "      <td>10</td>\n",
              "      <td>NaN</td>\n",
              "      <td>{'max_features': 4, 'n_estimators': 10}</td>\n",
              "      <td>-2.742620e+09</td>\n",
              "      <td>-2.609311e+09</td>\n",
              "      <td>...</td>\n",
              "      <td>-2.755726e+09</td>\n",
              "      <td>1.182604e+08</td>\n",
              "      <td>7</td>\n",
              "      <td>-5.063215e+08</td>\n",
              "      <td>-5.257983e+08</td>\n",
              "      <td>-5.081984e+08</td>\n",
              "      <td>-5.174405e+08</td>\n",
              "      <td>-5.282066e+08</td>\n",
              "      <td>-5.171931e+08</td>\n",
              "      <td>8.882622e+06</td>\n",
              "    </tr>\n",
              "    <tr>\n",
              "      <th>5</th>\n",
              "      <td>2.167535</td>\n",
              "      <td>0.250397</td>\n",
              "      <td>0.061063</td>\n",
              "      <td>0.017551</td>\n",
              "      <td>4</td>\n",
              "      <td>30</td>\n",
              "      <td>NaN</td>\n",
              "      <td>{'max_features': 4, 'n_estimators': 30}</td>\n",
              "      <td>-2.522176e+09</td>\n",
              "      <td>-2.440241e+09</td>\n",
              "      <td>...</td>\n",
              "      <td>-2.518759e+09</td>\n",
              "      <td>8.488084e+07</td>\n",
              "      <td>3</td>\n",
              "      <td>-3.776568e+08</td>\n",
              "      <td>-3.902106e+08</td>\n",
              "      <td>-3.885042e+08</td>\n",
              "      <td>-3.830866e+08</td>\n",
              "      <td>-3.894779e+08</td>\n",
              "      <td>-3.857872e+08</td>\n",
              "      <td>4.774229e+06</td>\n",
              "    </tr>\n",
              "    <tr>\n",
              "      <th>6</th>\n",
              "      <td>0.287879</td>\n",
              "      <td>0.019348</td>\n",
              "      <td>0.006843</td>\n",
              "      <td>0.002158</td>\n",
              "      <td>6</td>\n",
              "      <td>3</td>\n",
              "      <td>NaN</td>\n",
              "      <td>{'max_features': 6, 'n_estimators': 3}</td>\n",
              "      <td>-3.362127e+09</td>\n",
              "      <td>-3.311863e+09</td>\n",
              "      <td>...</td>\n",
              "      <td>-3.371513e+09</td>\n",
              "      <td>1.378086e+08</td>\n",
              "      <td>13</td>\n",
              "      <td>-8.909397e+08</td>\n",
              "      <td>-9.583733e+08</td>\n",
              "      <td>-9.000201e+08</td>\n",
              "      <td>-8.964731e+08</td>\n",
              "      <td>-9.151927e+08</td>\n",
              "      <td>-9.121998e+08</td>\n",
              "      <td>2.444837e+07</td>\n",
              "    </tr>\n",
              "    <tr>\n",
              "      <th>7</th>\n",
              "      <td>0.946527</td>\n",
              "      <td>0.375466</td>\n",
              "      <td>0.014418</td>\n",
              "      <td>0.001812</td>\n",
              "      <td>6</td>\n",
              "      <td>10</td>\n",
              "      <td>NaN</td>\n",
              "      <td>{'max_features': 6, 'n_estimators': 10}</td>\n",
              "      <td>-2.622099e+09</td>\n",
              "      <td>-2.669655e+09</td>\n",
              "      <td>...</td>\n",
              "      <td>-2.654240e+09</td>\n",
              "      <td>6.967978e+07</td>\n",
              "      <td>5</td>\n",
              "      <td>-4.939906e+08</td>\n",
              "      <td>-5.145996e+08</td>\n",
              "      <td>-5.023512e+08</td>\n",
              "      <td>-4.959467e+08</td>\n",
              "      <td>-5.147087e+08</td>\n",
              "      <td>-5.043194e+08</td>\n",
              "      <td>8.880106e+06</td>\n",
              "    </tr>\n",
              "    <tr>\n",
              "      <th>8</th>\n",
              "      <td>1.535607</td>\n",
              "      <td>0.029460</td>\n",
              "      <td>0.033829</td>\n",
              "      <td>0.000295</td>\n",
              "      <td>6</td>\n",
              "      <td>30</td>\n",
              "      <td>NaN</td>\n",
              "      <td>{'max_features': 6, 'n_estimators': 30}</td>\n",
              "      <td>-2.446142e+09</td>\n",
              "      <td>-2.446594e+09</td>\n",
              "      <td>...</td>\n",
              "      <td>-2.496981e+09</td>\n",
              "      <td>7.357046e+07</td>\n",
              "      <td>2</td>\n",
              "      <td>-3.760968e+08</td>\n",
              "      <td>-3.876636e+08</td>\n",
              "      <td>-3.875307e+08</td>\n",
              "      <td>-3.760938e+08</td>\n",
              "      <td>-3.861056e+08</td>\n",
              "      <td>-3.826981e+08</td>\n",
              "      <td>5.418747e+06</td>\n",
              "    </tr>\n",
              "    <tr>\n",
              "      <th>9</th>\n",
              "      <td>0.202347</td>\n",
              "      <td>0.004498</td>\n",
              "      <td>0.004399</td>\n",
              "      <td>0.000101</td>\n",
              "      <td>8</td>\n",
              "      <td>3</td>\n",
              "      <td>NaN</td>\n",
              "      <td>{'max_features': 8, 'n_estimators': 3}</td>\n",
              "      <td>-3.590333e+09</td>\n",
              "      <td>-3.232664e+09</td>\n",
              "      <td>...</td>\n",
              "      <td>-3.468718e+09</td>\n",
              "      <td>1.293758e+08</td>\n",
              "      <td>14</td>\n",
              "      <td>-9.505012e+08</td>\n",
              "      <td>-9.166119e+08</td>\n",
              "      <td>-9.033910e+08</td>\n",
              "      <td>-9.070642e+08</td>\n",
              "      <td>-9.459386e+08</td>\n",
              "      <td>-9.247014e+08</td>\n",
              "      <td>1.973471e+07</td>\n",
              "    </tr>\n",
              "    <tr>\n",
              "      <th>10</th>\n",
              "      <td>0.670327</td>\n",
              "      <td>0.009557</td>\n",
              "      <td>0.012067</td>\n",
              "      <td>0.000166</td>\n",
              "      <td>8</td>\n",
              "      <td>10</td>\n",
              "      <td>NaN</td>\n",
              "      <td>{'max_features': 8, 'n_estimators': 10}</td>\n",
              "      <td>-2.721311e+09</td>\n",
              "      <td>-2.675886e+09</td>\n",
              "      <td>...</td>\n",
              "      <td>-2.752030e+09</td>\n",
              "      <td>6.258030e+07</td>\n",
              "      <td>6</td>\n",
              "      <td>-4.998373e+08</td>\n",
              "      <td>-4.997970e+08</td>\n",
              "      <td>-5.099880e+08</td>\n",
              "      <td>-5.047868e+08</td>\n",
              "      <td>-5.348043e+08</td>\n",
              "      <td>-5.098427e+08</td>\n",
              "      <td>1.303601e+07</td>\n",
              "    </tr>\n",
              "    <tr>\n",
              "      <th>11</th>\n",
              "      <td>1.984377</td>\n",
              "      <td>0.017240</td>\n",
              "      <td>0.033919</td>\n",
              "      <td>0.000433</td>\n",
              "      <td>8</td>\n",
              "      <td>30</td>\n",
              "      <td>NaN</td>\n",
              "      <td>{'max_features': 8, 'n_estimators': 30}</td>\n",
              "      <td>-2.492636e+09</td>\n",
              "      <td>-2.444818e+09</td>\n",
              "      <td>...</td>\n",
              "      <td>-2.489909e+09</td>\n",
              "      <td>7.086483e+07</td>\n",
              "      <td>1</td>\n",
              "      <td>-3.801679e+08</td>\n",
              "      <td>-3.832972e+08</td>\n",
              "      <td>-3.823818e+08</td>\n",
              "      <td>-3.778452e+08</td>\n",
              "      <td>-3.817589e+08</td>\n",
              "      <td>-3.810902e+08</td>\n",
              "      <td>1.916605e+06</td>\n",
              "    </tr>\n",
              "    <tr>\n",
              "      <th>12</th>\n",
              "      <td>0.106895</td>\n",
              "      <td>0.001764</td>\n",
              "      <td>0.004548</td>\n",
              "      <td>0.000139</td>\n",
              "      <td>2</td>\n",
              "      <td>3</td>\n",
              "      <td>False</td>\n",
              "      <td>{'bootstrap': False, 'max_features': 2, 'n_est...</td>\n",
              "      <td>-4.020842e+09</td>\n",
              "      <td>-3.951861e+09</td>\n",
              "      <td>...</td>\n",
              "      <td>-3.891485e+09</td>\n",
              "      <td>8.648595e+07</td>\n",
              "      <td>17</td>\n",
              "      <td>-0.000000e+00</td>\n",
              "      <td>-4.306828e+01</td>\n",
              "      <td>-1.051392e+04</td>\n",
              "      <td>-0.000000e+00</td>\n",
              "      <td>-0.000000e+00</td>\n",
              "      <td>-2.111398e+03</td>\n",
              "      <td>4.201294e+03</td>\n",
              "    </tr>\n",
              "    <tr>\n",
              "      <th>13</th>\n",
              "      <td>0.330459</td>\n",
              "      <td>0.005565</td>\n",
              "      <td>0.013988</td>\n",
              "      <td>0.000194</td>\n",
              "      <td>2</td>\n",
              "      <td>10</td>\n",
              "      <td>False</td>\n",
              "      <td>{'bootstrap': False, 'max_features': 2, 'n_est...</td>\n",
              "      <td>-2.901352e+09</td>\n",
              "      <td>-3.036875e+09</td>\n",
              "      <td>...</td>\n",
              "      <td>-2.967697e+09</td>\n",
              "      <td>4.582448e+07</td>\n",
              "      <td>10</td>\n",
              "      <td>-0.000000e+00</td>\n",
              "      <td>-3.876145e+00</td>\n",
              "      <td>-9.462528e+02</td>\n",
              "      <td>-0.000000e+00</td>\n",
              "      <td>-0.000000e+00</td>\n",
              "      <td>-1.900258e+02</td>\n",
              "      <td>3.781165e+02</td>\n",
              "    </tr>\n",
              "    <tr>\n",
              "      <th>14</th>\n",
              "      <td>0.143611</td>\n",
              "      <td>0.002698</td>\n",
              "      <td>0.004852</td>\n",
              "      <td>0.000081</td>\n",
              "      <td>3</td>\n",
              "      <td>3</td>\n",
              "      <td>False</td>\n",
              "      <td>{'bootstrap': False, 'max_features': 3, 'n_est...</td>\n",
              "      <td>-3.687132e+09</td>\n",
              "      <td>-3.446245e+09</td>\n",
              "      <td>...</td>\n",
              "      <td>-3.596953e+09</td>\n",
              "      <td>8.011960e+07</td>\n",
              "      <td>15</td>\n",
              "      <td>-0.000000e+00</td>\n",
              "      <td>-0.000000e+00</td>\n",
              "      <td>-0.000000e+00</td>\n",
              "      <td>-0.000000e+00</td>\n",
              "      <td>-0.000000e+00</td>\n",
              "      <td>0.000000e+00</td>\n",
              "      <td>0.000000e+00</td>\n",
              "    </tr>\n",
              "    <tr>\n",
              "      <th>15</th>\n",
              "      <td>0.471591</td>\n",
              "      <td>0.003990</td>\n",
              "      <td>0.014083</td>\n",
              "      <td>0.000101</td>\n",
              "      <td>3</td>\n",
              "      <td>10</td>\n",
              "      <td>False</td>\n",
              "      <td>{'bootstrap': False, 'max_features': 3, 'n_est...</td>\n",
              "      <td>-2.837028e+09</td>\n",
              "      <td>-2.619558e+09</td>\n",
              "      <td>...</td>\n",
              "      <td>-2.783044e+09</td>\n",
              "      <td>8.862580e+07</td>\n",
              "      <td>8</td>\n",
              "      <td>-0.000000e+00</td>\n",
              "      <td>-0.000000e+00</td>\n",
              "      <td>-0.000000e+00</td>\n",
              "      <td>-0.000000e+00</td>\n",
              "      <td>-0.000000e+00</td>\n",
              "      <td>0.000000e+00</td>\n",
              "      <td>0.000000e+00</td>\n",
              "    </tr>\n",
              "    <tr>\n",
              "      <th>16</th>\n",
              "      <td>0.183952</td>\n",
              "      <td>0.005133</td>\n",
              "      <td>0.005034</td>\n",
              "      <td>0.000124</td>\n",
              "      <td>4</td>\n",
              "      <td>3</td>\n",
              "      <td>False</td>\n",
              "      <td>{'bootstrap': False, 'max_features': 4, 'n_est...</td>\n",
              "      <td>-3.549428e+09</td>\n",
              "      <td>-3.318176e+09</td>\n",
              "      <td>...</td>\n",
              "      <td>-3.344440e+09</td>\n",
              "      <td>1.099355e+08</td>\n",
              "      <td>12</td>\n",
              "      <td>-0.000000e+00</td>\n",
              "      <td>-0.000000e+00</td>\n",
              "      <td>-0.000000e+00</td>\n",
              "      <td>-0.000000e+00</td>\n",
              "      <td>-0.000000e+00</td>\n",
              "      <td>0.000000e+00</td>\n",
              "      <td>0.000000e+00</td>\n",
              "    </tr>\n",
              "    <tr>\n",
              "      <th>17</th>\n",
              "      <td>0.596982</td>\n",
              "      <td>0.010258</td>\n",
              "      <td>0.014151</td>\n",
              "      <td>0.000084</td>\n",
              "      <td>4</td>\n",
              "      <td>10</td>\n",
              "      <td>False</td>\n",
              "      <td>{'bootstrap': False, 'max_features': 4, 'n_est...</td>\n",
              "      <td>-2.692499e+09</td>\n",
              "      <td>-2.542704e+09</td>\n",
              "      <td>...</td>\n",
              "      <td>-2.629472e+09</td>\n",
              "      <td>8.510266e+07</td>\n",
              "      <td>4</td>\n",
              "      <td>-0.000000e+00</td>\n",
              "      <td>-0.000000e+00</td>\n",
              "      <td>-0.000000e+00</td>\n",
              "      <td>-0.000000e+00</td>\n",
              "      <td>-0.000000e+00</td>\n",
              "      <td>0.000000e+00</td>\n",
              "      <td>0.000000e+00</td>\n",
              "    </tr>\n",
              "  </tbody>\n",
              "</table>\n",
              "<p>18 rows × 23 columns</p>\n",
              "</div>\n",
              "      <button class=\"colab-df-convert\" onclick=\"convertToInteractive('df-8bb0bb09-0b0e-4f25-8253-0efcd8299079')\"\n",
              "              title=\"Convert this dataframe to an interactive table.\"\n",
              "              style=\"display:none;\">\n",
              "        \n",
              "  <svg xmlns=\"http://www.w3.org/2000/svg\" height=\"24px\"viewBox=\"0 0 24 24\"\n",
              "       width=\"24px\">\n",
              "    <path d=\"M0 0h24v24H0V0z\" fill=\"none\"/>\n",
              "    <path d=\"M18.56 5.44l.94 2.06.94-2.06 2.06-.94-2.06-.94-.94-2.06-.94 2.06-2.06.94zm-11 1L8.5 8.5l.94-2.06 2.06-.94-2.06-.94L8.5 2.5l-.94 2.06-2.06.94zm10 10l.94 2.06.94-2.06 2.06-.94-2.06-.94-.94-2.06-.94 2.06-2.06.94z\"/><path d=\"M17.41 7.96l-1.37-1.37c-.4-.4-.92-.59-1.43-.59-.52 0-1.04.2-1.43.59L10.3 9.45l-7.72 7.72c-.78.78-.78 2.05 0 2.83L4 21.41c.39.39.9.59 1.41.59.51 0 1.02-.2 1.41-.59l7.78-7.78 2.81-2.81c.8-.78.8-2.07 0-2.86zM5.41 20L4 18.59l7.72-7.72 1.47 1.35L5.41 20z\"/>\n",
              "  </svg>\n",
              "      </button>\n",
              "      \n",
              "  <style>\n",
              "    .colab-df-container {\n",
              "      display:flex;\n",
              "      flex-wrap:wrap;\n",
              "      gap: 12px;\n",
              "    }\n",
              "\n",
              "    .colab-df-convert {\n",
              "      background-color: #E8F0FE;\n",
              "      border: none;\n",
              "      border-radius: 50%;\n",
              "      cursor: pointer;\n",
              "      display: none;\n",
              "      fill: #1967D2;\n",
              "      height: 32px;\n",
              "      padding: 0 0 0 0;\n",
              "      width: 32px;\n",
              "    }\n",
              "\n",
              "    .colab-df-convert:hover {\n",
              "      background-color: #E2EBFA;\n",
              "      box-shadow: 0px 1px 2px rgba(60, 64, 67, 0.3), 0px 1px 3px 1px rgba(60, 64, 67, 0.15);\n",
              "      fill: #174EA6;\n",
              "    }\n",
              "\n",
              "    [theme=dark] .colab-df-convert {\n",
              "      background-color: #3B4455;\n",
              "      fill: #D2E3FC;\n",
              "    }\n",
              "\n",
              "    [theme=dark] .colab-df-convert:hover {\n",
              "      background-color: #434B5C;\n",
              "      box-shadow: 0px 1px 3px 1px rgba(0, 0, 0, 0.15);\n",
              "      filter: drop-shadow(0px 1px 2px rgba(0, 0, 0, 0.3));\n",
              "      fill: #FFFFFF;\n",
              "    }\n",
              "  </style>\n",
              "\n",
              "      <script>\n",
              "        const buttonEl =\n",
              "          document.querySelector('#df-8bb0bb09-0b0e-4f25-8253-0efcd8299079 button.colab-df-convert');\n",
              "        buttonEl.style.display =\n",
              "          google.colab.kernel.accessAllowed ? 'block' : 'none';\n",
              "\n",
              "        async function convertToInteractive(key) {\n",
              "          const element = document.querySelector('#df-8bb0bb09-0b0e-4f25-8253-0efcd8299079');\n",
              "          const dataTable =\n",
              "            await google.colab.kernel.invokeFunction('convertToInteractive',\n",
              "                                                     [key], {});\n",
              "          if (!dataTable) return;\n",
              "\n",
              "          const docLinkHtml = 'Like what you see? Visit the ' +\n",
              "            '<a target=\"_blank\" href=https://colab.research.google.com/notebooks/data_table.ipynb>data table notebook</a>'\n",
              "            + ' to learn more about interactive tables.';\n",
              "          element.innerHTML = '';\n",
              "          dataTable['output_type'] = 'display_data';\n",
              "          await google.colab.output.renderOutput(dataTable, element);\n",
              "          const docLink = document.createElement('div');\n",
              "          docLink.innerHTML = docLinkHtml;\n",
              "          element.appendChild(docLink);\n",
              "        }\n",
              "      </script>\n",
              "    </div>\n",
              "  </div>\n",
              "  "
            ]
          },
          "metadata": {},
          "execution_count": 24
        }
      ],
      "source": [
        "pd.DataFrame(grid_search.cv_results_)"
      ],
      "id": "0bg_RxdWvk4E"
    },
    {
      "cell_type": "markdown",
      "source": [
        "# Analyze the best models and their errors"
      ],
      "metadata": {
        "id": "bCTlfbf4BASE"
      },
      "id": "bCTlfbf4BASE"
    },
    {
      "cell_type": "code",
      "execution_count": 25,
      "metadata": {
        "id": "aih9_1XOygda",
        "outputId": "866b2b33-06cf-432b-876e-85e28efe778e",
        "colab": {
          "base_uri": "https://localhost:8080/"
        }
      },
      "outputs": [
        {
          "output_type": "execute_result",
          "data": {
            "text/plain": [
              "array([6.96542523e-02, 6.04213840e-02, 4.21882202e-02, 1.52450557e-02,\n",
              "       1.55545295e-02, 1.58491147e-02, 1.49346552e-02, 3.79009225e-01,\n",
              "       5.47789150e-02, 1.07031322e-01, 4.82031213e-02, 6.79266007e-03,\n",
              "       1.65706303e-01, 7.83480660e-05, 1.52473276e-03, 3.02816106e-03])"
            ]
          },
          "metadata": {},
          "execution_count": 25
        }
      ],
      "source": [
        "feature_importances = grid_search.best_estimator_.feature_importances_\n",
        "feature_importances"
      ],
      "id": "aih9_1XOygda"
    },
    {
      "cell_type": "code",
      "execution_count": 26,
      "metadata": {
        "id": "gvsqocpUygda",
        "outputId": "5f58c73b-8186-4525-8561-f10687910a00",
        "colab": {
          "base_uri": "https://localhost:8080/"
        }
      },
      "outputs": [
        {
          "output_type": "execute_result",
          "data": {
            "text/plain": [
              "[(0.3790092248170967, 'median_income'),\n",
              " (0.16570630316895876, 'INLAND'),\n",
              " (0.10703132208204354, 'pop_per_hhold'),\n",
              " (0.06965425227942929, 'longitude'),\n",
              " (0.0604213840080722, 'latitude'),\n",
              " (0.054778915018283726, 'rooms_per_hhold'),\n",
              " (0.048203121338269206, 'bedrooms_per_room'),\n",
              " (0.04218822024391753, 'housing_median_age'),\n",
              " (0.015849114744428634, 'population'),\n",
              " (0.015554529490469328, 'total_bedrooms'),\n",
              " (0.01524505568840977, 'total_rooms'),\n",
              " (0.014934655161887776, 'households'),\n",
              " (0.006792660074259966, '<1H OCEAN'),\n",
              " (0.0030281610628962747, 'NEAR OCEAN'),\n",
              " (0.0015247327555504937, 'NEAR BAY'),\n",
              " (7.834806602687504e-05, 'ISLAND')]"
            ]
          },
          "metadata": {},
          "execution_count": 26
        }
      ],
      "source": [
        "extra_attribs = [\"rooms_per_hhold\", \"pop_per_hhold\", \"bedrooms_per_room\"]\n",
        "#cat_encoder = cat_pipeline.named_steps[\"cat_encoder\"] # old solution\n",
        "cat_encoder = full_pipeline.named_transformers_[\"cat\"]\n",
        "cat_one_hot_attribs = list(cat_encoder.categories_[0])\n",
        "attributes = num_attribs + extra_attribs + cat_one_hot_attribs\n",
        "sorted(zip(feature_importances, attributes), reverse=True)"
      ],
      "id": "gvsqocpUygda"
    },
    {
      "cell_type": "markdown",
      "source": [
        "# Evaluate your system on the test set"
      ],
      "metadata": {
        "id": "t5jW2z_aCSST"
      },
      "id": "t5jW2z_aCSST"
    },
    {
      "cell_type": "code",
      "execution_count": 27,
      "metadata": {
        "id": "WCU9qAzNygdR"
      },
      "outputs": [],
      "source": [
        "from sklearn.metrics import mean_squared_error"
      ],
      "id": "WCU9qAzNygdR"
    },
    {
      "cell_type": "code",
      "execution_count": 28,
      "metadata": {
        "id": "4oiRHPTnygdb"
      },
      "outputs": [],
      "source": [
        "final_model = grid_search.best_estimator_\n",
        "\n",
        "X_test = strat_test_set.drop(\"median_house_value\", axis=1)\n",
        "y_test = strat_test_set[\"median_house_value\"].copy()\n",
        "\n",
        "X_test_prepared = full_pipeline.transform(X_test)\n",
        "final_predictions = final_model.predict(X_test_prepared)\n",
        "\n",
        "final_mse = mean_squared_error(y_test, final_predictions)\n",
        "final_rmse = np.sqrt(final_mse)"
      ],
      "id": "4oiRHPTnygdb"
    },
    {
      "cell_type": "code",
      "execution_count": 29,
      "metadata": {
        "id": "DGsutdZiygdb",
        "outputId": "55c1ad0a-0cd2-4521-f3e2-215c6501d6f3",
        "colab": {
          "base_uri": "https://localhost:8080/"
        }
      },
      "outputs": [
        {
          "output_type": "execute_result",
          "data": {
            "text/plain": [
              "47873.26095812988"
            ]
          },
          "metadata": {},
          "execution_count": 29
        }
      ],
      "source": [
        "final_rmse"
      ],
      "id": "DGsutdZiygdb"
    },
    {
      "cell_type": "markdown",
      "metadata": {
        "id": "hfTbYuiJygdb"
      },
      "source": [
        "We can compute a 95% confidence interval for the test RMSE:"
      ],
      "id": "hfTbYuiJygdb"
    },
    {
      "cell_type": "code",
      "execution_count": 30,
      "metadata": {
        "id": "dcJqeVj-ygdb"
      },
      "outputs": [],
      "source": [
        "from scipy import stats"
      ],
      "id": "dcJqeVj-ygdb"
    },
    {
      "cell_type": "code",
      "execution_count": 31,
      "metadata": {
        "id": "j2ikmJMAygdc",
        "outputId": "75e8345c-d70b-4408-8363-6e2070e3489e",
        "colab": {
          "base_uri": "https://localhost:8080/"
        }
      },
      "outputs": [
        {
          "output_type": "execute_result",
          "data": {
            "text/plain": [
              "array([45893.36082829, 49774.46796717])"
            ]
          },
          "metadata": {},
          "execution_count": 31
        }
      ],
      "source": [
        "confidence = 0.95\n",
        "squared_errors = (final_predictions - y_test) ** 2\n",
        "mean = squared_errors.mean()\n",
        "m = len(squared_errors)\n",
        "\n",
        "np.sqrt(stats.t.interval(confidence, m - 1,\n",
        "                         loc=np.mean(squared_errors),\n",
        "                         scale=stats.sem(squared_errors)))"
      ],
      "id": "j2ikmJMAygdc"
    },
    {
      "cell_type": "markdown",
      "metadata": {
        "id": "4kqea6Q6ygdc"
      },
      "source": [
        "We could compute the interval manually like this:"
      ],
      "id": "4kqea6Q6ygdc"
    },
    {
      "cell_type": "code",
      "execution_count": 32,
      "metadata": {
        "id": "CJtjVb9Zygdc",
        "outputId": "1e02f66b-495f-41b5-94e2-c1d11a490ac0",
        "colab": {
          "base_uri": "https://localhost:8080/"
        }
      },
      "outputs": [
        {
          "output_type": "execute_result",
          "data": {
            "text/plain": [
              "(45893.360828285535, 49774.46796717361)"
            ]
          },
          "metadata": {},
          "execution_count": 32
        }
      ],
      "source": [
        "tscore = stats.t.ppf((1 + confidence) / 2, df=m - 1)\n",
        "tmargin = tscore * squared_errors.std(ddof=1) / np.sqrt(m)\n",
        "np.sqrt(mean - tmargin), np.sqrt(mean + tmargin)"
      ],
      "id": "CJtjVb9Zygdc"
    },
    {
      "cell_type": "markdown",
      "metadata": {
        "id": "OADAayrzygdd"
      },
      "source": [
        "Alternatively, we could use a z-scores rather than t-scores:"
      ],
      "id": "OADAayrzygdd"
    },
    {
      "cell_type": "code",
      "execution_count": 33,
      "metadata": {
        "id": "VRYFDrZCygdd",
        "outputId": "2e24c072-ebf0-4cb3-f55b-6c1447f67110",
        "colab": {
          "base_uri": "https://localhost:8080/"
        }
      },
      "outputs": [
        {
          "output_type": "execute_result",
          "data": {
            "text/plain": [
              "(45893.9540110131, 49773.921030650374)"
            ]
          },
          "metadata": {},
          "execution_count": 33
        }
      ],
      "source": [
        "zscore = stats.norm.ppf((1 + confidence) / 2)\n",
        "zmargin = zscore * squared_errors.std(ddof=1) / np.sqrt(m)\n",
        "np.sqrt(mean - zmargin), np.sqrt(mean + zmargin)"
      ],
      "id": "VRYFDrZCygdd"
    }
  ],
  "metadata": {
    "colab": {
      "provenance": []
    },
    "kernelspec": {
      "display_name": "Python 3",
      "language": "python",
      "name": "python3"
    },
    "language_info": {
      "codemirror_mode": {
        "name": "ipython",
        "version": 3
      },
      "file_extension": ".py",
      "mimetype": "text/x-python",
      "name": "python",
      "nbconvert_exporter": "python",
      "pygments_lexer": "ipython3",
      "version": "3.7.12"
    }
  },
  "nbformat": 4,
  "nbformat_minor": 5
}